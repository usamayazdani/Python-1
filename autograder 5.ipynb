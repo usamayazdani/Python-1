{
 "cells": [
  {
   "cell_type": "code",
   "execution_count": 4,
   "metadata": {},
   "outputs": [],
   "source": [
    "list_dict=[\n",
    "    {\n",
    "        'Company':\"Afinity\",\n",
    "        'City':\"Islamabad\",\n",
    "        'Country':\"Pakistan\",\n",
    "        \"Contact\":{\n",
    "            \"Phone\":\"030877\",\n",
    "            \"Email\":\"hassani@gmail\"\n",
    "        },\n",
    "        'Social Account':{\n",
    "            \"facebook\":\"httpbbkabdkakdd\",\n",
    "            \"Twitter\":\"AJDBJDBJBDJ\"\n",
    "        }\n",
    "    },\n",
    "    {\n",
    "        'Company':\"ETISALAT\",\n",
    "        'City':\"Kabul\",\n",
    "        'Country':\"Afghanistan\",\n",
    "        \"Contact\":{\n",
    "            \"Phone\":\"0308237\",\n",
    "            \"Email\":\"hamzi13ii@g131mail\"\n",
    "        },\n",
    "        'Social Account':{\n",
    "            \"facebook\":\"h232ttpbbkabdkakdd\",\n",
    "            \"Twitter\":\"AJDB313JDBJBDJ\"\n",
    "        }\n",
    "    },\n",
    "    {\n",
    "        'Company':\"Fast\",\n",
    "        'City':\"Peshawar\",\n",
    "        'Country':\"Pakistan\",\n",
    "        \"Contact\":{\n",
    "            \"Phone\":\"03087asa7\",\n",
    "            \"Email\":\"usamaaisas@gmail\"\n",
    "        },\n",
    "        'Social Account':{\n",
    "            \"facebook\":\"hsdattpbbkabdkakdd\",\n",
    "            \"Twitter\":\"AJDBdadaaJDBJBDJ\"\n",
    "        }\n",
    "    }\n",
    "    ,\n",
    "    {\n",
    "        'Company':\"Aurora\",\n",
    "        'City':\"Islamabad\",\n",
    "        'Country':\"Pakistan\",\n",
    "        \"Contact\":{\n",
    "            \"Phone\":\"03087asa7\",\n",
    "            \"Email\":\"usamaisas@gmail\"\n",
    "        },\n",
    "        'Social Account':{\n",
    "            \"facebook\":\"hsdattpbbkabdkakdd\",\n",
    "            \"Twitter\":\"AJDBdadaaJDBJBDJ\"\n",
    "        }\n",
    "    }\n",
    "]"
   ]
  },
  {
   "cell_type": "code",
   "execution_count": 7,
   "metadata": {},
   "outputs": [
    {
     "name": "stdout",
     "output_type": "stream",
     "text": [
      "['Afinity', 'ETISALAT', 'Fast', 'Aurora']\n"
     ]
    }
   ],
   "source": [
    "def get_companies_names(list_dict):\n",
    "    c_list = []\n",
    "    for company in list_dict:\n",
    "        c_list.append(company['Company'])\n",
    "    return c_list\n",
    "v=get_companies_names(list_dict)\n",
    "print(v)"
   ]
  },
  {
   "cell_type": "code",
   "execution_count": 10,
   "metadata": {},
   "outputs": [
    {
     "name": "stdout",
     "output_type": "stream",
     "text": [
      "{'Pakistan': 3, 'Afghanistan': 1}\n"
     ]
    }
   ],
   "source": [
    "def get_countries(list_dict):\n",
    "    mydict = {}\n",
    "    for company in list_dict:\n",
    "        country = company['Country']\n",
    "        if country in mydict:\n",
    "            mydict[country] += 1\n",
    "        else:\n",
    "            mydict[country] = 1\n",
    "    return mydict\n",
    "v=get_countries(list_dict)\n",
    "print(v)"
   ]
  },
  {
   "cell_type": "code",
   "execution_count": 14,
   "metadata": {},
   "outputs": [
    {
     "name": "stdout",
     "output_type": "stream",
     "text": [
      "['Afinity', 'Aurora']\n"
     ]
    }
   ],
   "source": [
    "def get_companies(list_dict, location):\n",
    "    c_list = []\n",
    "    for company in list_dict:\n",
    "        if company['City'] == location['City']:\n",
    "            c_list.append(company['Company'])\n",
    "    if len(c_list) == 0:\n",
    "        return None\n",
    "    else:\n",
    "        return c_list\n",
    "location={\"City\":\"Islamabad\",\n",
    "          \"Country\":\"Pakistan\"}\n",
    "    \n",
    "print (get_companies(list_dict,location))    "
   ]
  },
  {
   "cell_type": "code",
   "execution_count": null,
   "metadata": {},
   "outputs": [],
   "source": []
  },
  {
   "cell_type": "code",
   "execution_count": null,
   "metadata": {},
   "outputs": [],
   "source": []
  },
  {
   "cell_type": "code",
   "execution_count": null,
   "metadata": {},
   "outputs": [],
   "source": []
  },
  {
   "cell_type": "code",
   "execution_count": 1,
   "metadata": {},
   "outputs": [],
   "source": [
    "def get_companies_names(companies):\n",
    "    c_list = []\n",
    "    for company in companies:\n",
    "        c_list.append(company['Company Name'])\n",
    "    return c_list\n",
    "\n",
    "\n",
    "# Your code for get_countries goes here\n",
    "def get_countries(companies):\n",
    "    mydict = {}\n",
    "    for company in companies:\n",
    "        country = company['Country']\n",
    "        if country in mydict:\n",
    "            mydict[country] += 1\n",
    "        else:\n",
    "            mydict[country] = 1\n",
    "    return mydict\n",
    "\n",
    "\n",
    "# Your code for get_companies goes here\n",
    "def get_companies(companies, location):\n",
    "    c_list = []\n",
    "    for company in companies:\n",
    "        if company['City'] == location['city']:\n",
    "            c_list.append(company['Company Name'])\n",
    "    if len(c_list) == 0:\n",
    "        return None\n",
    "    else:\n",
    "        return c_list"
   ]
  },
  {
   "cell_type": "code",
   "execution_count": null,
   "metadata": {},
   "outputs": [],
   "source": []
  },
  {
   "cell_type": "code",
   "execution_count": 11,
   "metadata": {},
   "outputs": [
    {
     "name": "stdout",
     "output_type": "stream",
     "text": [
      "['Afinity']\n"
     ]
    }
   ],
   "source": [
    "def comam(list_dict):\n",
    "    i=0\n",
    "    v=len(list_dict)\n",
    "    return_list=[]\n",
    "    while i < v:\n",
    "        \n",
    "        name=list_dict[i]['Company']\n",
    "        return_list.append(name)\n",
    "        i+=1\n",
    "        return return_list  \n",
    "list_com_name=comam(list_dict)\n",
    "print (list_com_name)    "
   ]
  },
  {
   "cell_type": "code",
   "execution_count": null,
   "metadata": {},
   "outputs": [],
   "source": []
  },
  {
   "cell_type": "code",
   "execution_count": null,
   "metadata": {},
   "outputs": [],
   "source": []
  },
  {
   "cell_type": "code",
   "execution_count": null,
   "metadata": {},
   "outputs": [],
   "source": []
  },
  {
   "cell_type": "code",
   "execution_count": null,
   "metadata": {},
   "outputs": [],
   "source": []
  },
  {
   "cell_type": "code",
   "execution_count": null,
   "metadata": {},
   "outputs": [],
   "source": []
  },
  {
   "cell_type": "code",
   "execution_count": 3,
   "metadata": {},
   "outputs": [
    {
     "name": "stdout",
     "output_type": "stream",
     "text": [
      "['Afinity', 'ETISALAT', 'Fast']\n"
     ]
    }
   ],
   "source": [
    "# print (list_dict[1]['City'])\n",
    "#Question 1\n",
    "\n",
    "def get_companies_names(list_dict_1):    \n",
    "    len_dict=len(list_dict_1)\n",
    "    i=0\n",
    "    rt_list=[]\n",
    "    while i<len_dict:\n",
    "    #     print (i)\n",
    "        name=list_dict_1[i]['Company']\n",
    "        rt_list.append(name)\n",
    "    #     print (list_dict[i]['Company'])\n",
    "        i=i+1\n",
    "    return rt_list\n",
    "list_com_name=get_companies_names(list_dict)\n",
    "print (list_com_name)"
   ]
  },
  {
   "cell_type": "code",
   "execution_count": 35,
   "metadata": {},
   "outputs": [
    {
     "name": "stdout",
     "output_type": "stream",
     "text": [
      "Exist\n",
      "{'Pakistan': 2, 'Afghanistan': 1}\n"
     ]
    }
   ],
   "source": [
    "country_count={}\n",
    "\n",
    "country_name=list_dict[0]['Country']\n",
    "country_count[country_name] = 1\n",
    "\n",
    "country_name=list_dict[1]['Country']\n",
    "country_count[country_name] = 1\n",
    "\n",
    "\n",
    "country_name=list_dict[2]['Country']\n",
    "if country_name in country_count.keys():\n",
    "    print (\"Exist\")\n",
    "    country_count[country_name] += 1\n",
    "\n",
    "\n",
    "print (country_count)"
   ]
  },
  {
   "cell_type": "code",
   "execution_count": 13,
   "metadata": {},
   "outputs": [
    {
     "data": {
      "text/plain": [
       "{'Pakistan': 2, 'Afghanistan': 1}"
      ]
     },
     "execution_count": 13,
     "metadata": {},
     "output_type": "execute_result"
    }
   ],
   "source": [
    "#question2\n",
    "def get_countries(list_dict):\n",
    "    \n",
    "    len_of_list=len(list_dict)\n",
    "    j=0\n",
    "    country_count={}\n",
    "    while j<len_of_list:\n",
    "        country_name=list_dict[j]['Country']\n",
    "        if country_name in country_count.keys():\n",
    "            country_count[country_name] += 1\n",
    "        else:\n",
    "            country_count[country_name] = 1\n",
    "\n",
    "        j=j+1\n",
    "    return(country_count)    \n",
    "get_countries(list_dict)\n",
    "    "
   ]
  },
  {
   "cell_type": "code",
   "execution_count": 16,
   "metadata": {},
   "outputs": [],
   "source": [
    "#question3\n",
    "def get_companies(list_dict,location):\n",
    "    len_dict=len(list_dict)\n",
    "    rt_list=[]\n",
    "    i=0\n",
    "    while i<len_dict:\n",
    "        if list_dict[i]['City']==location['City'] and list_dict[i]['Country']==location['Country']:# to comare country name and city name \n",
    "            name=list_dict[i]['Company Name']\n",
    "            rt_list.append(name)    \n",
    "        i=i+1\n",
    "    if rt_list:\n",
    "        return rt_list\n",
    "    else:\n",
    "        return None"
   ]
  },
  {
   "cell_type": "code",
   "execution_count": 17,
   "metadata": {},
   "outputs": [
    {
     "name": "stdout",
     "output_type": "stream",
     "text": [
      "['Afinity', 'Aurora']\n"
     ]
    }
   ],
   "source": [
    "location={\"City\":\"Islamabad\",\n",
    "          \"Country\":\"Pakistan\"}\n",
    "    \n",
    "print (get_companies(list_dict,location))"
   ]
  },
  {
   "cell_type": "code",
   "execution_count": 8,
   "metadata": {},
   "outputs": [
    {
     "name": "stdout",
     "output_type": "stream",
     "text": [
      "False\n"
     ]
    }
   ],
   "source": [
    "a=[]\n",
    "\n",
    "print (bool(a))"
   ]
  }
 ],
 "metadata": {
  "kernelspec": {
   "display_name": "Python 3",
   "language": "python",
   "name": "python3"
  },
  "language_info": {
   "codemirror_mode": {
    "name": "ipython",
    "version": 3
   },
   "file_extension": ".py",
   "mimetype": "text/x-python",
   "name": "python",
   "nbconvert_exporter": "python",
   "pygments_lexer": "ipython3",
   "version": "3.8.3"
  }
 },
 "nbformat": 4,
 "nbformat_minor": 4
}
